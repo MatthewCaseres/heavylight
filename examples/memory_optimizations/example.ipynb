{
 "cells": [
  {
   "cell_type": "code",
   "execution_count": 1,
   "metadata": {},
   "outputs": [],
   "source": [
    "import numpy as np\n",
    "from heavylight import LightModel\n",
    "from typing import Union, Callable\n",
    "\n",
    "class SimpleModel(LightModel):\n",
    "\n",
    "    def __init__(self, initial_pols_if: np.ndarray, storage_function: Union[Callable, None] = None, mortality_rate = .01):\n",
    "        super().__init__(storage_function=storage_function)\n",
    "        self.initial_pols_if = initial_pols_if\n",
    "        self.mortality_rate = mortality_rate\n",
    "\n",
    "    def t(self, t):\n",
    "        return t\n",
    "\n",
    "    def num_pols_if(self, t):\n",
    "        if t == 0:\n",
    "            return self.initial_pols_if\n",
    "        else:\n",
    "            return self.num_pols_if(t - 1) - self.pols_death(t - 1) # causes exponential time complexity if uncached\n",
    "        \n",
    "    def pols_death(self, t):\n",
    "        return self.num_pols_if(t) * self.mortality_rate\n",
    "\n",
    "    def cashflow(self, t):\n",
    "        return self.num_pols_if(t) * 100\n",
    "    \n",
    "    def v(self, t):\n",
    "        \"\"\"discount factor for time t --> time 0\"\"\"\n",
    "        if t == 0:\n",
    "            return 1\n",
    "        else:\n",
    "            return self.v(t - 1) / (1 + self.forward_rate(t))\n",
    "    \n",
    "    def forward_rate(self, t):\n",
    "        return 0.04\n",
    "    \n",
    "    def pv_cashflow(self, t):\n",
    "        \"\"\"present value of the cashflow occuring at time t\"\"\"\n",
    "        return self.cashflow(t) * self.v(t)\n",
    "    \n",
    "    def fib(self, t, mult_factor):\n",
    "        if t <= 1:\n",
    "            return t\n",
    "        return mult_factor * self.fib(t - 1, mult_factor) + self.fib(t - 2, mult_factor)"
   ]
  }
 ],
 "metadata": {
  "kernelspec": {
   "display_name": "Python 3",
   "language": "python",
   "name": "python3"
  },
  "language_info": {
   "codemirror_mode": {
    "name": "ipython",
    "version": 3
   },
   "file_extension": ".py",
   "mimetype": "text/x-python",
   "name": "python",
   "nbconvert_exporter": "python",
   "pygments_lexer": "ipython3",
   "version": "3.8.18"
  }
 },
 "nbformat": 4,
 "nbformat_minor": 2
}
