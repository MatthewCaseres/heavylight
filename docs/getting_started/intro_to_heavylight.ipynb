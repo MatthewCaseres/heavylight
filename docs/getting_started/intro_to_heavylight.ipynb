{
 "cells": [
  {
   "cell_type": "markdown",
   "metadata": {},
   "source": [
    "# An Introduction to Actuarial Modelling With Heavylight\n",
    "\n",
    "This page provides a guided walkthrough of how to develop and run an actuarial model using `heavylight`.\n",
    "\n",
    "## Before you start\n",
    "\n",
    "- Ensure you have Python 3.8 or newer installed: [Download Python](https://www.python.org/downloads/)\n",
    "- Install heavylight from [pypi](https://pypi.org/project/heavylight/): `python -m pip install heavylight` or `pip install heavylight`\n",
    "- If working interactively, install [jupyter lab](https://jupyter.org/install)\n",
    "\n",
    "Once installed, check libraries are installed, and check the version of heavylight:"
   ]
  },
  {
   "cell_type": "code",
   "execution_count": 1,
   "metadata": {},
   "outputs": [
    {
     "name": "stdout",
     "output_type": "stream",
     "text": [
      "Version: heavylight.__version__ = '1.0.6'\n"
     ]
    }
   ],
   "source": [
    "import heavylight\n",
    "import pandas as pd\n",
    "import numpy as np\n",
    "print(f\"Version: {heavylight.__version__ = }\")"
   ]
  },
  {
   "cell_type": "markdown",
   "metadata": {},
   "source": [
    "## Overview\n",
    "\n",
    "This document covers the following stages in development and execution of the model:\n",
    "\n",
    " - define the model\n",
    " - pass in data (or simulate)\n",
    " - pass in assumptions\n",
    " - run the model\n",
    " - viewing the results\n",
    "\n",
    "In practice, defining, loading data and loading assumptions need to be carried out in parallel, so we will define several iterations of the model (`Model1`, `Model2`...), introducing one concept at a time.  You can skip to the end to see the final iteration of the model.\n",
    "\n",
    "This guide is designed to give an introduction, so doesn't cover some of the more advanced techniques around performance optimisation (vectorisation using numpy/tensors) or table/model design."
   ]
  },
  {
   "cell_type": "markdown",
   "metadata": {},
   "source": [
    "## Define the model\n",
    "\n",
    "The model is defined as a subclass of `heavylight.Model`, and each value or variable we want to calculate is defined as a method (a function belonging to the class).\n",
    "\n",
    "In actuarial models we are usually interested in projecting through time, this corresponds to methods with one argument `t`.  When the model is run these are automatically calculated, for each time period specified up to `proj_len`.\n",
    "\n",
    "`self` is always the first parameter in a python class method.  This allows us to refer to the class instance, including any other data attributes or methods, without passing them into the method separately.\n",
    "\n",
    "Want to know more about classes?  The python class tutorial can help: https://docs.python.org/3/tutorial/classes.html"
   ]
  },
  {
   "cell_type": "code",
   "execution_count": 2,
   "metadata": {},
   "outputs": [],
   "source": [
    "class Model1(heavylight.Model):\n",
    "    def t(self, t):\n",
    "        \"\"\"time\"\"\"\n",
    "        return t\n",
    "    \n",
    "    def num_alive(self, t):\n",
    "        \"\"\"probability that life is alive at time t, given alive at time 0\"\"\"\n",
    "        if t == 0:\n",
    "            return 1\n",
    "        else:\n",
    "            return self.num_alive(t - 1) * 0.99"
   ]
  },
  {
   "cell_type": "markdown",
   "metadata": {},
   "source": [
    "We can quickly test the model runs by creating an instance of it, and assign it to the variable `model1`.  When an model is instanced, it is run as well, with the variable `proj_len` controlling how many time periods it is run for.  As Python uses zero-indexing this runs from 0, i.e. `proj_len = 5` will calculate for t = 0, 1, 2, 3, 4.\n",
    "\n",
    "Once the model has run, we can view the results as a dataframe using the `.df` property."
   ]
  },
  {
   "cell_type": "code",
   "execution_count": 3,
   "metadata": {},
   "outputs": [
    {
     "data": {
      "text/html": [
       "<div>\n",
       "<style scoped>\n",
       "    .dataframe tbody tr th:only-of-type {\n",
       "        vertical-align: middle;\n",
       "    }\n",
       "\n",
       "    .dataframe tbody tr th {\n",
       "        vertical-align: top;\n",
       "    }\n",
       "\n",
       "    .dataframe thead th {\n",
       "        text-align: right;\n",
       "    }\n",
       "</style>\n",
       "<table border=\"1\" class=\"dataframe\">\n",
       "  <thead>\n",
       "    <tr style=\"text-align: right;\">\n",
       "      <th></th>\n",
       "      <th>t</th>\n",
       "      <th>num_alive</th>\n",
       "    </tr>\n",
       "  </thead>\n",
       "  <tbody>\n",
       "    <tr>\n",
       "      <th>0</th>\n",
       "      <td>0</td>\n",
       "      <td>1.000000</td>\n",
       "    </tr>\n",
       "    <tr>\n",
       "      <th>1</th>\n",
       "      <td>1</td>\n",
       "      <td>0.990000</td>\n",
       "    </tr>\n",
       "    <tr>\n",
       "      <th>2</th>\n",
       "      <td>2</td>\n",
       "      <td>0.980100</td>\n",
       "    </tr>\n",
       "    <tr>\n",
       "      <th>3</th>\n",
       "      <td>3</td>\n",
       "      <td>0.970299</td>\n",
       "    </tr>\n",
       "    <tr>\n",
       "      <th>4</th>\n",
       "      <td>4</td>\n",
       "      <td>0.960596</td>\n",
       "    </tr>\n",
       "  </tbody>\n",
       "</table>\n",
       "</div>"
      ],
      "text/plain": [
       "   t  num_alive\n",
       "0  0   1.000000\n",
       "1  1   0.990000\n",
       "2  2   0.980100\n",
       "3  3   0.970299\n",
       "4  4   0.960596"
      ]
     },
     "execution_count": 3,
     "metadata": {},
     "output_type": "execute_result"
    }
   ],
   "source": [
    "model1 = Model1(proj_len = 5)\n",
    "model1.df"
   ]
  },
  {
   "cell_type": "markdown",
   "metadata": {},
   "source": [
    "### Exploring the results, and calculating more values\n",
    "\n",
    "We can see that num alive runs off as expected, 1, 0.99, 0.99^2, 0.99^3...\n",
    "\n",
    "We can view the values for a variable using `.values`:"
   ]
  },
  {
   "cell_type": "code",
   "execution_count": 4,
   "metadata": {},
   "outputs": [
    {
     "data": {
      "text/plain": [
       "[1, 0.99, 0.9801, 0.9702989999999999, 0.96059601]"
      ]
     },
     "execution_count": 4,
     "metadata": {},
     "output_type": "execute_result"
    }
   ],
   "source": [
    "model1.num_alive.values"
   ]
  },
  {
   "cell_type": "markdown",
   "metadata": {},
   "source": [
    "Likewise, we can sum up all of them (in this case it's not too meaningful as we aren't looking at cashflows yet!)"
   ]
  },
  {
   "cell_type": "code",
   "execution_count": 5,
   "metadata": {},
   "outputs": [
    {
     "data": {
      "text/plain": [
       "4.90099501"
      ]
     },
     "execution_count": 5,
     "metadata": {},
     "output_type": "execute_result"
    }
   ],
   "source": [
    "model1.num_alive.sum()"
   ]
  },
  {
   "cell_type": "markdown",
   "metadata": {},
   "source": [
    "We can obtain individual values by calling them with the appropriate parameter (`t` in this case)"
   ]
  },
  {
   "cell_type": "code",
   "execution_count": 6,
   "metadata": {},
   "outputs": [
    {
     "data": {
      "text/plain": [
       "0.96059601"
      ]
     },
     "execution_count": 6,
     "metadata": {},
     "output_type": "execute_result"
    }
   ],
   "source": [
    "model1.num_alive(4)"
   ]
  },
  {
   "cell_type": "markdown",
   "metadata": {},
   "source": [
    "We can view a dataframe just of the variables results.  This isn't that useful when the function is only dependent on t, however if we have functions with multiple keys such as both `t` and `duration`, then we can view all the output."
   ]
  },
  {
   "cell_type": "code",
   "execution_count": 7,
   "metadata": {},
   "outputs": [
    {
     "data": {
      "text/html": [
       "<div>\n",
       "<style scoped>\n",
       "    .dataframe tbody tr th:only-of-type {\n",
       "        vertical-align: middle;\n",
       "    }\n",
       "\n",
       "    .dataframe tbody tr th {\n",
       "        vertical-align: top;\n",
       "    }\n",
       "\n",
       "    .dataframe thead th {\n",
       "        text-align: right;\n",
       "    }\n",
       "</style>\n",
       "<table border=\"1\" class=\"dataframe\">\n",
       "  <thead>\n",
       "    <tr style=\"text-align: right;\">\n",
       "      <th></th>\n",
       "      <th>t</th>\n",
       "      <th>num_alive</th>\n",
       "    </tr>\n",
       "  </thead>\n",
       "  <tbody>\n",
       "    <tr>\n",
       "      <th>0</th>\n",
       "      <td>0</td>\n",
       "      <td>1.000000</td>\n",
       "    </tr>\n",
       "    <tr>\n",
       "      <th>1</th>\n",
       "      <td>1</td>\n",
       "      <td>0.990000</td>\n",
       "    </tr>\n",
       "    <tr>\n",
       "      <th>2</th>\n",
       "      <td>2</td>\n",
       "      <td>0.980100</td>\n",
       "    </tr>\n",
       "    <tr>\n",
       "      <th>3</th>\n",
       "      <td>3</td>\n",
       "      <td>0.970299</td>\n",
       "    </tr>\n",
       "    <tr>\n",
       "      <th>4</th>\n",
       "      <td>4</td>\n",
       "      <td>0.960596</td>\n",
       "    </tr>\n",
       "  </tbody>\n",
       "</table>\n",
       "</div>"
      ],
      "text/plain": [
       "   t  num_alive\n",
       "0  0   1.000000\n",
       "1  1   0.990000\n",
       "2  2   0.980100\n",
       "3  3   0.970299\n",
       "4  4   0.960596"
      ]
     },
     "execution_count": 7,
     "metadata": {},
     "output_type": "execute_result"
    }
   ],
   "source": [
    "model1.num_alive.df"
   ]
  },
  {
   "cell_type": "markdown",
   "metadata": {},
   "source": [
    "Running the projection to time 4 doesn't mean we can't obtain further values, it just means they aren't precomputed (and in extreme cases you may get a recursion limit or stack overflow error).  We can query any value by calling it."
   ]
  },
  {
   "cell_type": "code",
   "execution_count": 8,
   "metadata": {},
   "outputs": [
    {
     "data": {
      "text/plain": [
       "0.8179069375972307"
      ]
     },
     "execution_count": 8,
     "metadata": {},
     "output_type": "execute_result"
    }
   ],
   "source": [
    "model1.num_alive(20)"
   ]
  },
  {
   "cell_type": "markdown",
   "metadata": {},
   "source": [
    "This computes all the intermediate values - we can check this in the dataframe.\n",
    "\n",
    "Note: the variable `t` hasn't been calculated for t > 4, this is because the value of `t` has never been requested for t > 4, as the `t(t)` method isn't called by `num_alive`."
   ]
  },
  {
   "cell_type": "code",
   "execution_count": 9,
   "metadata": {},
   "outputs": [
    {
     "data": {
      "text/html": [
       "<div>\n",
       "<style scoped>\n",
       "    .dataframe tbody tr th:only-of-type {\n",
       "        vertical-align: middle;\n",
       "    }\n",
       "\n",
       "    .dataframe tbody tr th {\n",
       "        vertical-align: top;\n",
       "    }\n",
       "\n",
       "    .dataframe thead th {\n",
       "        text-align: right;\n",
       "    }\n",
       "</style>\n",
       "<table border=\"1\" class=\"dataframe\">\n",
       "  <thead>\n",
       "    <tr style=\"text-align: right;\">\n",
       "      <th></th>\n",
       "      <th>t</th>\n",
       "      <th>num_alive</th>\n",
       "    </tr>\n",
       "  </thead>\n",
       "  <tbody>\n",
       "    <tr>\n",
       "      <th>0</th>\n",
       "      <td>0.0</td>\n",
       "      <td>1.000000</td>\n",
       "    </tr>\n",
       "    <tr>\n",
       "      <th>1</th>\n",
       "      <td>1.0</td>\n",
       "      <td>0.990000</td>\n",
       "    </tr>\n",
       "    <tr>\n",
       "      <th>2</th>\n",
       "      <td>2.0</td>\n",
       "      <td>0.980100</td>\n",
       "    </tr>\n",
       "    <tr>\n",
       "      <th>3</th>\n",
       "      <td>3.0</td>\n",
       "      <td>0.970299</td>\n",
       "    </tr>\n",
       "    <tr>\n",
       "      <th>4</th>\n",
       "      <td>4.0</td>\n",
       "      <td>0.960596</td>\n",
       "    </tr>\n",
       "    <tr>\n",
       "      <th>5</th>\n",
       "      <td>NaN</td>\n",
       "      <td>0.950990</td>\n",
       "    </tr>\n",
       "    <tr>\n",
       "      <th>6</th>\n",
       "      <td>NaN</td>\n",
       "      <td>0.941480</td>\n",
       "    </tr>\n",
       "    <tr>\n",
       "      <th>7</th>\n",
       "      <td>NaN</td>\n",
       "      <td>0.932065</td>\n",
       "    </tr>\n",
       "    <tr>\n",
       "      <th>8</th>\n",
       "      <td>NaN</td>\n",
       "      <td>0.922745</td>\n",
       "    </tr>\n",
       "    <tr>\n",
       "      <th>9</th>\n",
       "      <td>NaN</td>\n",
       "      <td>0.913517</td>\n",
       "    </tr>\n",
       "    <tr>\n",
       "      <th>10</th>\n",
       "      <td>NaN</td>\n",
       "      <td>0.904382</td>\n",
       "    </tr>\n",
       "    <tr>\n",
       "      <th>11</th>\n",
       "      <td>NaN</td>\n",
       "      <td>0.895338</td>\n",
       "    </tr>\n",
       "    <tr>\n",
       "      <th>12</th>\n",
       "      <td>NaN</td>\n",
       "      <td>0.886385</td>\n",
       "    </tr>\n",
       "    <tr>\n",
       "      <th>13</th>\n",
       "      <td>NaN</td>\n",
       "      <td>0.877521</td>\n",
       "    </tr>\n",
       "    <tr>\n",
       "      <th>14</th>\n",
       "      <td>NaN</td>\n",
       "      <td>0.868746</td>\n",
       "    </tr>\n",
       "    <tr>\n",
       "      <th>15</th>\n",
       "      <td>NaN</td>\n",
       "      <td>0.860058</td>\n",
       "    </tr>\n",
       "    <tr>\n",
       "      <th>16</th>\n",
       "      <td>NaN</td>\n",
       "      <td>0.851458</td>\n",
       "    </tr>\n",
       "    <tr>\n",
       "      <th>17</th>\n",
       "      <td>NaN</td>\n",
       "      <td>0.842943</td>\n",
       "    </tr>\n",
       "    <tr>\n",
       "      <th>18</th>\n",
       "      <td>NaN</td>\n",
       "      <td>0.834514</td>\n",
       "    </tr>\n",
       "    <tr>\n",
       "      <th>19</th>\n",
       "      <td>NaN</td>\n",
       "      <td>0.826169</td>\n",
       "    </tr>\n",
       "    <tr>\n",
       "      <th>20</th>\n",
       "      <td>NaN</td>\n",
       "      <td>0.817907</td>\n",
       "    </tr>\n",
       "  </tbody>\n",
       "</table>\n",
       "</div>"
      ],
      "text/plain": [
       "      t  num_alive\n",
       "0   0.0   1.000000\n",
       "1   1.0   0.990000\n",
       "2   2.0   0.980100\n",
       "3   3.0   0.970299\n",
       "4   4.0   0.960596\n",
       "5   NaN   0.950990\n",
       "6   NaN   0.941480\n",
       "7   NaN   0.932065\n",
       "8   NaN   0.922745\n",
       "9   NaN   0.913517\n",
       "10  NaN   0.904382\n",
       "11  NaN   0.895338\n",
       "12  NaN   0.886385\n",
       "13  NaN   0.877521\n",
       "14  NaN   0.868746\n",
       "15  NaN   0.860058\n",
       "16  NaN   0.851458\n",
       "17  NaN   0.842943\n",
       "18  NaN   0.834514\n",
       "19  NaN   0.826169\n",
       "20  NaN   0.817907"
      ]
     },
     "execution_count": 9,
     "metadata": {},
     "output_type": "execute_result"
    }
   ],
   "source": [
    "model1.df"
   ]
  },
  {
   "cell_type": "markdown",
   "metadata": {},
   "source": [
    "## Passing data to the model\n",
    "\n",
    "Our model isn't going to be that useful unless we can pass in data, for this model we are interested in the probability of being alive at each valuation point, the probability of dying then, and the expected claim cost arising.  (Sum Assured x Number of Deaths)\n",
    "\n",
    "We'll add in two new methods, `num_deaths` to count the expected deaths occuring, and `age` to calculate the current age.\n",
    "\n",
    "`num_deaths` is dependent on the number alive at the start of the period, and the mortality rate `q_x`: as we've not defined a mortality table we'll fudge this for now as being a linear function of age $q_x(t) = 0.001 (x + t)$\n",
    "\n",
    "For the `age` variable, we want to get this from data at `t = 0` from the field `init_age`.  There are lots of different ways to store and pass in data, for example in a dictionary, using a dataclass, or as individual variables.  For this example we'll use a dictionary, which will be stored in the model as `data`.  We can then query the data field using `self.data[\"init_age]`."
   ]
  },
  {
   "cell_type": "code",
   "execution_count": 10,
   "metadata": {},
   "outputs": [],
   "source": [
    "class Model2(heavylight.Model):\n",
    "    def t(self, t):\n",
    "        \"\"\"time\"\"\"\n",
    "        return t\n",
    "    \n",
    "    def num_alive(self, t):\n",
    "        \"\"\"probability that life is alive at time t, given alive at time 0\"\"\"\n",
    "        if t == 0:\n",
    "            return 1\n",
    "        else:\n",
    "            return self.num_alive(t - 1) - self.num_deaths(t - 1)     # deaths moved to a separate method\n",
    "        \n",
    "    def num_deaths(self, t):\n",
    "        \"\"\"number of deaths occuring between time t-1 and t\"\"\"\n",
    "        if t < 0:\n",
    "            return 0\n",
    "        else:\n",
    "            q_x = 0.001 * self.age(t)\n",
    "            return self.num_alive(t) * q_x\n",
    "\n",
    "    def age(self, t):\n",
    "        \"\"\"age in years at time t\"\"\"\n",
    "        if t == 0:\n",
    "            return self.data[\"init_age\"]\n",
    "        elif t % 12 == 0:\n",
    "            return self.age(t - 1) + 1\n",
    "        else:\n",
    "            return self.age(t - 1)"
   ]
  },
  {
   "cell_type": "markdown",
   "metadata": {},
   "source": [
    "We pass the data in as pass of the model instance creation, using the key `data` means it is accessible as `self.data` within the model, in our case `self.data['init_age']` will  look up init_age in the dictionary and return `32`."
   ]
  },
  {
   "cell_type": "code",
   "execution_count": 11,
   "metadata": {},
   "outputs": [
    {
     "data": {
      "text/html": [
       "<div>\n",
       "<style scoped>\n",
       "    .dataframe tbody tr th:only-of-type {\n",
       "        vertical-align: middle;\n",
       "    }\n",
       "\n",
       "    .dataframe tbody tr th {\n",
       "        vertical-align: top;\n",
       "    }\n",
       "\n",
       "    .dataframe thead th {\n",
       "        text-align: right;\n",
       "    }\n",
       "</style>\n",
       "<table border=\"1\" class=\"dataframe\">\n",
       "  <thead>\n",
       "    <tr style=\"text-align: right;\">\n",
       "      <th></th>\n",
       "      <th>t</th>\n",
       "      <th>age</th>\n",
       "      <th>num_alive</th>\n",
       "      <th>num_deaths</th>\n",
       "    </tr>\n",
       "  </thead>\n",
       "  <tbody>\n",
       "    <tr>\n",
       "      <th>0</th>\n",
       "      <td>0</td>\n",
       "      <td>32</td>\n",
       "      <td>1.000000</td>\n",
       "      <td>0.032000</td>\n",
       "    </tr>\n",
       "    <tr>\n",
       "      <th>1</th>\n",
       "      <td>1</td>\n",
       "      <td>32</td>\n",
       "      <td>0.968000</td>\n",
       "      <td>0.030976</td>\n",
       "    </tr>\n",
       "    <tr>\n",
       "      <th>2</th>\n",
       "      <td>2</td>\n",
       "      <td>32</td>\n",
       "      <td>0.937024</td>\n",
       "      <td>0.029985</td>\n",
       "    </tr>\n",
       "    <tr>\n",
       "      <th>3</th>\n",
       "      <td>3</td>\n",
       "      <td>32</td>\n",
       "      <td>0.907039</td>\n",
       "      <td>0.029025</td>\n",
       "    </tr>\n",
       "    <tr>\n",
       "      <th>4</th>\n",
       "      <td>4</td>\n",
       "      <td>32</td>\n",
       "      <td>0.878014</td>\n",
       "      <td>0.028096</td>\n",
       "    </tr>\n",
       "    <tr>\n",
       "      <th>...</th>\n",
       "      <td>...</td>\n",
       "      <td>...</td>\n",
       "      <td>...</td>\n",
       "      <td>...</td>\n",
       "    </tr>\n",
       "    <tr>\n",
       "      <th>116</th>\n",
       "      <td>116</td>\n",
       "      <td>41</td>\n",
       "      <td>0.013636</td>\n",
       "      <td>0.000559</td>\n",
       "    </tr>\n",
       "    <tr>\n",
       "      <th>117</th>\n",
       "      <td>117</td>\n",
       "      <td>41</td>\n",
       "      <td>0.013077</td>\n",
       "      <td>0.000536</td>\n",
       "    </tr>\n",
       "    <tr>\n",
       "      <th>118</th>\n",
       "      <td>118</td>\n",
       "      <td>41</td>\n",
       "      <td>0.012541</td>\n",
       "      <td>0.000514</td>\n",
       "    </tr>\n",
       "    <tr>\n",
       "      <th>119</th>\n",
       "      <td>119</td>\n",
       "      <td>41</td>\n",
       "      <td>0.012027</td>\n",
       "      <td>0.000493</td>\n",
       "    </tr>\n",
       "    <tr>\n",
       "      <th>120</th>\n",
       "      <td>120</td>\n",
       "      <td>42</td>\n",
       "      <td>0.011534</td>\n",
       "      <td>0.000484</td>\n",
       "    </tr>\n",
       "  </tbody>\n",
       "</table>\n",
       "<p>121 rows × 4 columns</p>\n",
       "</div>"
      ],
      "text/plain": [
       "       t  age  num_alive  num_deaths\n",
       "0      0   32   1.000000    0.032000\n",
       "1      1   32   0.968000    0.030976\n",
       "2      2   32   0.937024    0.029985\n",
       "3      3   32   0.907039    0.029025\n",
       "4      4   32   0.878014    0.028096\n",
       "..   ...  ...        ...         ...\n",
       "116  116   41   0.013636    0.000559\n",
       "117  117   41   0.013077    0.000536\n",
       "118  118   41   0.012541    0.000514\n",
       "119  119   41   0.012027    0.000493\n",
       "120  120   42   0.011534    0.000484\n",
       "\n",
       "[121 rows x 4 columns]"
      ]
     },
     "execution_count": 11,
     "metadata": {},
     "output_type": "execute_result"
    }
   ],
   "source": [
    "data2 = dict(init_age = 32)\n",
    "model2 = Model2(data=data2, proj_len=10*12 + 1)\n",
    "model2.df"
   ]
  },
  {
   "cell_type": "markdown",
   "metadata": {},
   "source": [
    "We've got more data here to look at now, as `.df` outputs a pandas dataframe, we can access all the normal dataframe features, for example `.plot()` gives us access to the plotting interface."
   ]
  },
  {
   "cell_type": "code",
   "execution_count": 12,
   "metadata": {},
   "outputs": [
    {
     "data": {
      "image/png": "[encoded data removed]",
      "text/plain": [
       "<Figure size 640x480 with 1 Axes>"
      ]
     },
     "metadata": {},
     "output_type": "display_data"
    }
   ],
   "source": [
    "model2.df.plot(x='t', y='num_alive');"
   ]
  },
  {
   "cell_type": "markdown",
   "metadata": {},
   "source": [
    "## Adding a table to store structured assumptions\n",
    "\n",
    "Heavylight comes with the `Table` class which is optional, and provides a high performance table capable of handling most actuarial tables, and loading in data from pandas dataframes, Excel, and CSV formats.  See the main Tables documentation for the latest details.\n",
    "\n",
    "Here we will create a mortality table, rather than loading it it, although in practice most tables will be pre-computed.\n",
    "\n",
    "We start by creating a dataframe, with ages running from 16 to 130.  The `Table` class needs to know what type the key is, in this case we are using integers, and we want to ensure that the lookup doesn't go past the lower and upper values (so any values under 16 or over 130 will look up 16 or 130 respectively), so we are specifing type `int_bound`.   The overall key is therefore `age|int_bound`."
   ]
  },
  {
   "cell_type": "code",
   "execution_count": 13,
   "metadata": {},
   "outputs": [
    {
     "data": {
      "text/html": [
       "<div>\n",
       "<style scoped>\n",
       "    .dataframe tbody tr th:only-of-type {\n",
       "        vertical-align: middle;\n",
       "    }\n",
       "\n",
       "    .dataframe tbody tr th {\n",
       "        vertical-align: top;\n",
       "    }\n",
       "\n",
       "    .dataframe thead th {\n",
       "        text-align: right;\n",
       "    }\n",
       "</style>\n",
       "<table border=\"1\" class=\"dataframe\">\n",
       "  <thead>\n",
       "    <tr style=\"text-align: right;\">\n",
       "      <th></th>\n",
       "      <th>age|int_bound</th>\n",
       "    </tr>\n",
       "  </thead>\n",
       "  <tbody>\n",
       "    <tr>\n",
       "      <th>0</th>\n",
       "      <td>16</td>\n",
       "    </tr>\n",
       "    <tr>\n",
       "      <th>1</th>\n",
       "      <td>17</td>\n",
       "    </tr>\n",
       "    <tr>\n",
       "      <th>2</th>\n",
       "      <td>18</td>\n",
       "    </tr>\n",
       "    <tr>\n",
       "      <th>3</th>\n",
       "      <td>19</td>\n",
       "    </tr>\n",
       "    <tr>\n",
       "      <th>4</th>\n",
       "      <td>20</td>\n",
       "    </tr>\n",
       "    <tr>\n",
       "      <th>...</th>\n",
       "      <td>...</td>\n",
       "    </tr>\n",
       "    <tr>\n",
       "      <th>110</th>\n",
       "      <td>126</td>\n",
       "    </tr>\n",
       "    <tr>\n",
       "      <th>111</th>\n",
       "      <td>127</td>\n",
       "    </tr>\n",
       "    <tr>\n",
       "      <th>112</th>\n",
       "      <td>128</td>\n",
       "    </tr>\n",
       "    <tr>\n",
       "      <th>113</th>\n",
       "      <td>129</td>\n",
       "    </tr>\n",
       "    <tr>\n",
       "      <th>114</th>\n",
       "      <td>130</td>\n",
       "    </tr>\n",
       "  </tbody>\n",
       "</table>\n",
       "<p>115 rows × 1 columns</p>\n",
       "</div>"
      ],
      "text/plain": [
       "     age|int_bound\n",
       "0               16\n",
       "1               17\n",
       "2               18\n",
       "3               19\n",
       "4               20\n",
       "..             ...\n",
       "110            126\n",
       "111            127\n",
       "112            128\n",
       "113            129\n",
       "114            130\n",
       "\n",
       "[115 rows x 1 columns]"
      ]
     },
     "execution_count": 13,
     "metadata": {},
     "output_type": "execute_result"
    }
   ],
   "source": [
    "df_mort = pd.DataFrame(\n",
    "    {'age|int_bound': range(16, 131)}\n",
    ")\n",
    "df_mort"
   ]
  },
  {
   "cell_type": "markdown",
   "metadata": {},
   "source": [
    "Our table also need values (mortality rates).  Mortality rates are generally exponential, so we'll populate `q_x` using an exponential function - this has just been picked for ease of use:\n",
    "\n",
    "$q_x = 0.002e^{0.064(x-30)} + 0.001$\n",
    "\n",
    "We also use `np.clip` to ensure this falls in the range $[0, 1]$ as it is a probability."
   ]
  },
  {
   "cell_type": "code",
   "execution_count": 14,
   "metadata": {},
   "outputs": [
    {
     "data": {
      "text/html": [
       "<div>\n",
       "<style scoped>\n",
       "    .dataframe tbody tr th:only-of-type {\n",
       "        vertical-align: middle;\n",
       "    }\n",
       "\n",
       "    .dataframe tbody tr th {\n",
       "        vertical-align: top;\n",
       "    }\n",
       "\n",
       "    .dataframe thead th {\n",
       "        text-align: right;\n",
       "    }\n",
       "</style>\n",
       "<table border=\"1\" class=\"dataframe\">\n",
       "  <thead>\n",
       "    <tr style=\"text-align: right;\">\n",
       "      <th></th>\n",
       "      <th>age|int_bound</th>\n",
       "      <th>q_x|float</th>\n",
       "    </tr>\n",
       "  </thead>\n",
       "  <tbody>\n",
       "    <tr>\n",
       "      <th>0</th>\n",
       "      <td>16</td>\n",
       "      <td>0.001816</td>\n",
       "    </tr>\n",
       "    <tr>\n",
       "      <th>1</th>\n",
       "      <td>17</td>\n",
       "      <td>0.001870</td>\n",
       "    </tr>\n",
       "    <tr>\n",
       "      <th>2</th>\n",
       "      <td>18</td>\n",
       "      <td>0.001928</td>\n",
       "    </tr>\n",
       "    <tr>\n",
       "      <th>3</th>\n",
       "      <td>19</td>\n",
       "      <td>0.001989</td>\n",
       "    </tr>\n",
       "    <tr>\n",
       "      <th>4</th>\n",
       "      <td>20</td>\n",
       "      <td>0.002055</td>\n",
       "    </tr>\n",
       "    <tr>\n",
       "      <th>...</th>\n",
       "      <td>...</td>\n",
       "      <td>...</td>\n",
       "    </tr>\n",
       "    <tr>\n",
       "      <th>110</th>\n",
       "      <td>126</td>\n",
       "      <td>0.932827</td>\n",
       "    </tr>\n",
       "    <tr>\n",
       "      <th>111</th>\n",
       "      <td>127</td>\n",
       "      <td>0.994414</td>\n",
       "    </tr>\n",
       "    <tr>\n",
       "      <th>112</th>\n",
       "      <td>128</td>\n",
       "      <td>1.000000</td>\n",
       "    </tr>\n",
       "    <tr>\n",
       "      <th>113</th>\n",
       "      <td>129</td>\n",
       "      <td>1.000000</td>\n",
       "    </tr>\n",
       "    <tr>\n",
       "      <th>114</th>\n",
       "      <td>130</td>\n",
       "      <td>1.000000</td>\n",
       "    </tr>\n",
       "  </tbody>\n",
       "</table>\n",
       "<p>115 rows × 2 columns</p>\n",
       "</div>"
      ],
      "text/plain": [
       "     age|int_bound  q_x|float\n",
       "0               16   0.001816\n",
       "1               17   0.001870\n",
       "2               18   0.001928\n",
       "3               19   0.001989\n",
       "4               20   0.002055\n",
       "..             ...        ...\n",
       "110            126   0.932827\n",
       "111            127   0.994414\n",
       "112            128   1.000000\n",
       "113            129   1.000000\n",
       "114            130   1.000000\n",
       "\n",
       "[115 rows x 2 columns]"
      ]
     },
     "execution_count": 14,
     "metadata": {},
     "output_type": "execute_result"
    }
   ],
   "source": [
    "# 0.02*2.64**(0.04 * (t + 30)) + 0.002\n",
    "df_mort['q_x|float'] = 0.002 * np.exp(0.064 * (df_mort['age|int_bound'] - 30)) + 0.001\n",
    "df_mort['q_x|float'] = np.clip(df_mort['q_x|float'], 0, 1) # ensure between 0 and 1\n",
    "df_mort"
   ]
  },
  {
   "cell_type": "markdown",
   "metadata": {},
   "source": [
    "Let's check how that looks with a plot:"
   ]
  },
  {
   "cell_type": "code",
   "execution_count": 15,
   "metadata": {},
   "outputs": [
    {
     "data": {
      "image/png": "[encoded data removed]",
      "text/plain": [
       "<Figure size 640x480 with 1 Axes>"
      ]
     },
     "metadata": {},
     "output_type": "display_data"
    }
   ],
   "source": [
    "df_mort.plot(x='age|int_bound', y='q_x|float');"
   ]
  },
  {
   "cell_type": "markdown",
   "metadata": {},
   "source": [
    "This looks fine, so we can create a heavylight `Table` instance using it."
   ]
  },
  {
   "cell_type": "code",
   "execution_count": 16,
   "metadata": {},
   "outputs": [],
   "source": [
    "mort_table = heavylight.Table(df_mort)"
   ]
  },
  {
   "cell_type": "markdown",
   "metadata": {},
   "source": [
    "Tables are looked up based on keys, using the square brackets `[]`, so to get the rate for age 110:"
   ]
  },
  {
   "cell_type": "code",
   "execution_count": 17,
   "metadata": {},
   "outputs": [
    {
     "data": {
      "text/plain": [
       "0.3356707392422082"
      ]
     },
     "execution_count": 17,
     "metadata": {},
     "output_type": "execute_result"
    }
   ],
   "source": [
    "mort_table[110]"
   ]
  },
  {
   "cell_type": "markdown",
   "metadata": {},
   "source": [
    "## Incorporating the mortality table into the model\n",
    "\n",
    "We could now create a basis dictionary (much like the data dictionary), however for this case we'll use a small class for the basis.  This will give us the option to use `.item` notation rather than dictionary item lookups `['item']`.  Either approach works.\n",
    "\n",
    "At the same time as adding the mortality table, let's at a flat discount rate, and precompute the monthly equivalent rate.  Note that power in python is accomplished with the `**` operator, e.g. if we wrote `=2^3` in Excel, the python equivalent would be `2**3`.\n",
    "\n",
    "Python operators are listed here: https://docs.python.org/3/library/operator.html#mapping-operators-to-functions"
   ]
  },
  {
   "cell_type": "code",
   "execution_count": 18,
   "metadata": {},
   "outputs": [],
   "source": [
    "class Basis:\n",
    "    def __init__(self, mort_table, disc_rate_pa):\n",
    "        self.mort_table = mort_table\n",
    "        self.disc_rate_pa = disc_rate_pa\n",
    "        self.disc_rate_pm = (1 + disc_rate_pa) ** (1/12) - 1"
   ]
  },
  {
   "cell_type": "markdown",
   "metadata": {},
   "source": [
    "We can create a class instance with our specific values, passing in the mortality table (`mort_table`) and a flat discount rate of 4% per annum"
   ]
  },
  {
   "cell_type": "code",
   "execution_count": 19,
   "metadata": {},
   "outputs": [
    {
     "data": {
      "text/plain": [
       "0.6356966578357008"
      ]
     },
     "execution_count": 19,
     "metadata": {},
     "output_type": "execute_result"
    }
   ],
   "source": [
    "basis3 = Basis(mort_table=mort_table, disc_rate_pa = 0.04)\n",
    "basis3.mort_table[120]"
   ]
  },
  {
   "cell_type": "markdown",
   "metadata": {},
   "source": [
    "Doing a quick check that the monthly discount rate is calculated:"
   ]
  },
  {
   "cell_type": "code",
   "execution_count": 20,
   "metadata": {},
   "outputs": [
    {
     "data": {
      "text/plain": [
       "0.0032737397821989145"
      ]
     },
     "execution_count": 20,
     "metadata": {},
     "output_type": "execute_result"
    }
   ],
   "source": [
    "basis3.disc_rate_pm"
   ]
  },
  {
   "cell_type": "markdown",
   "metadata": {},
   "source": [
    "Updating the model to look up the mortality table, the key change is the addition of `q_x` which looks up `self.basis.mort_table`."
   ]
  },
  {
   "cell_type": "code",
   "execution_count": 21,
   "metadata": {},
   "outputs": [],
   "source": [
    "class Model3(heavylight.Model):\n",
    "    def t(self, t):\n",
    "        \"\"\"time\"\"\"\n",
    "        return t\n",
    "    \n",
    "    def num_alive(self, t):\n",
    "        \"\"\"probability that life is alive at time t, given alive at time 0\"\"\"\n",
    "        if t == 0:\n",
    "            return 1\n",
    "        else:\n",
    "            return self.num_alive(t - 1) - self.num_deaths(t - 1)     # deaths moved to a separate method\n",
    "        \n",
    "    def num_deaths(self, t):\n",
    "        \"\"\"number of deaths occuring between time t-1 and t\"\"\"\n",
    "        if t < 0:\n",
    "            return 0\n",
    "        else:\n",
    "            return self.num_alive(t) * self.q_x(t)\n",
    "\n",
    "    def q_x(self, t):\n",
    "        return self.basis.mort_table[self.age(t)]\n",
    "\n",
    "    def age(self, t):\n",
    "        \"\"\"age in years at time t\"\"\"\n",
    "        if t == 0:\n",
    "            return self.data[\"init_age\"]\n",
    "        elif t % 12 == 0:\n",
    "            return self.age(t - 1) + 1\n",
    "        else:\n",
    "            return self.age(t - 1)"
   ]
  },
  {
   "cell_type": "markdown",
   "metadata": {},
   "source": [
    "Running this - picking a longer projection and an older age so we have higher q_x values:"
   ]
  },
  {
   "cell_type": "code",
   "execution_count": 22,
   "metadata": {},
   "outputs": [
    {
     "data": {
      "text/html": [
       "<div>\n",
       "<style scoped>\n",
       "    .dataframe tbody tr th:only-of-type {\n",
       "        vertical-align: middle;\n",
       "    }\n",
       "\n",
       "    .dataframe tbody tr th {\n",
       "        vertical-align: top;\n",
       "    }\n",
       "\n",
       "    .dataframe thead th {\n",
       "        text-align: right;\n",
       "    }\n",
       "</style>\n",
       "<table border=\"1\" class=\"dataframe\">\n",
       "  <thead>\n",
       "    <tr style=\"text-align: right;\">\n",
       "      <th></th>\n",
       "      <th>t</th>\n",
       "      <th>age</th>\n",
       "      <th>num_alive</th>\n",
       "      <th>num_deaths</th>\n",
       "      <th>q_x</th>\n",
       "    </tr>\n",
       "  </thead>\n",
       "  <tbody>\n",
       "    <tr>\n",
       "      <th>0</th>\n",
       "      <td>0</td>\n",
       "      <td>65</td>\n",
       "      <td>1.000000e+00</td>\n",
       "      <td>1.978666e-02</td>\n",
       "      <td>0.019787</td>\n",
       "    </tr>\n",
       "    <tr>\n",
       "      <th>1</th>\n",
       "      <td>1</td>\n",
       "      <td>65</td>\n",
       "      <td>9.802133e-01</td>\n",
       "      <td>1.939515e-02</td>\n",
       "      <td>0.019787</td>\n",
       "    </tr>\n",
       "    <tr>\n",
       "      <th>2</th>\n",
       "      <td>2</td>\n",
       "      <td>65</td>\n",
       "      <td>9.608182e-01</td>\n",
       "      <td>1.901139e-02</td>\n",
       "      <td>0.019787</td>\n",
       "    </tr>\n",
       "    <tr>\n",
       "      <th>3</th>\n",
       "      <td>3</td>\n",
       "      <td>65</td>\n",
       "      <td>9.418068e-01</td>\n",
       "      <td>1.863521e-02</td>\n",
       "      <td>0.019787</td>\n",
       "    </tr>\n",
       "    <tr>\n",
       "      <th>4</th>\n",
       "      <td>4</td>\n",
       "      <td>65</td>\n",
       "      <td>9.231716e-01</td>\n",
       "      <td>1.826648e-02</td>\n",
       "      <td>0.019787</td>\n",
       "    </tr>\n",
       "    <tr>\n",
       "      <th>...</th>\n",
       "      <td>...</td>\n",
       "      <td>...</td>\n",
       "      <td>...</td>\n",
       "      <td>...</td>\n",
       "      <td>...</td>\n",
       "    </tr>\n",
       "    <tr>\n",
       "      <th>356</th>\n",
       "      <td>356</td>\n",
       "      <td>94</td>\n",
       "      <td>1.289973e-09</td>\n",
       "      <td>1.563432e-10</td>\n",
       "      <td>0.121199</td>\n",
       "    </tr>\n",
       "    <tr>\n",
       "      <th>357</th>\n",
       "      <td>357</td>\n",
       "      <td>94</td>\n",
       "      <td>1.133629e-09</td>\n",
       "      <td>1.373945e-10</td>\n",
       "      <td>0.121199</td>\n",
       "    </tr>\n",
       "    <tr>\n",
       "      <th>358</th>\n",
       "      <td>358</td>\n",
       "      <td>94</td>\n",
       "      <td>9.962349e-10</td>\n",
       "      <td>1.207425e-10</td>\n",
       "      <td>0.121199</td>\n",
       "    </tr>\n",
       "    <tr>\n",
       "      <th>359</th>\n",
       "      <td>359</td>\n",
       "      <td>94</td>\n",
       "      <td>8.754924e-10</td>\n",
       "      <td>1.061086e-10</td>\n",
       "      <td>0.121199</td>\n",
       "    </tr>\n",
       "    <tr>\n",
       "      <th>360</th>\n",
       "      <td>360</td>\n",
       "      <td>95</td>\n",
       "      <td>7.693838e-10</td>\n",
       "      <td>9.936056e-11</td>\n",
       "      <td>0.129143</td>\n",
       "    </tr>\n",
       "  </tbody>\n",
       "</table>\n",
       "<p>361 rows × 5 columns</p>\n",
       "</div>"
      ],
      "text/plain": [
       "       t  age     num_alive    num_deaths       q_x\n",
       "0      0   65  1.000000e+00  1.978666e-02  0.019787\n",
       "1      1   65  9.802133e-01  1.939515e-02  0.019787\n",
       "2      2   65  9.608182e-01  1.901139e-02  0.019787\n",
       "3      3   65  9.418068e-01  1.863521e-02  0.019787\n",
       "4      4   65  9.231716e-01  1.826648e-02  0.019787\n",
       "..   ...  ...           ...           ...       ...\n",
       "356  356   94  1.289973e-09  1.563432e-10  0.121199\n",
       "357  357   94  1.133629e-09  1.373945e-10  0.121199\n",
       "358  358   94  9.962349e-10  1.207425e-10  0.121199\n",
       "359  359   94  8.754924e-10  1.061086e-10  0.121199\n",
       "360  360   95  7.693838e-10  9.936056e-11  0.129143\n",
       "\n",
       "[361 rows x 5 columns]"
      ]
     },
     "execution_count": 22,
     "metadata": {},
     "output_type": "execute_result"
    }
   ],
   "source": [
    "data3 = dict(init_age = 65)\n",
    "\n",
    "model3 = Model3(data=data3, basis=basis3, proj_len = 361)\n",
    "model3.df"
   ]
  },
  {
   "cell_type": "markdown",
   "metadata": {},
   "source": [
    "We can plot `age` against `q_x` to check it is broadly exponential:"
   ]
  },
  {
   "cell_type": "code",
   "execution_count": 23,
   "metadata": {},
   "outputs": [
    {
     "data": {
      "image/png": "[encoded data removed]",
      "text/plain": [
       "<Figure size 640x480 with 1 Axes>"
      ]
     },
     "metadata": {},
     "output_type": "display_data"
    }
   ],
   "source": [
    "model3.df.plot(x='age', y='q_x');"
   ]
  },
  {
   "cell_type": "markdown",
   "metadata": {},
   "source": [
    "And likewise, have a look at the pattern of deaths - starting around 0.02, and tailing off.  The saw type pattern is because ages are integer, so the same rate is used for 12 valuation periods."
   ]
  },
  {
   "cell_type": "code",
   "execution_count": 24,
   "metadata": {},
   "outputs": [
    {
     "data": {
      "image/png": "[encoded data removed]",
      "text/plain": [
       "<Figure size 640x480 with 1 Axes>"
      ]
     },
     "metadata": {},
     "output_type": "display_data"
    }
   ],
   "source": [
    "model3.df.plot(x='t', y='num_deaths');"
   ]
  },
  {
   "cell_type": "markdown",
   "metadata": {},
   "source": [
    "## Adding Cashflows - expected claim, premium and present values\n",
    "\n",
    "There are a few different ways we can work out present values, we could either pull out cashflows from the model and use a separate `npv()` function, create a discounting model, however for simplicity in this case we'll add a `v` function.  In line with general actuarial practice which uses $v^t$: https://en.wikipedia.org/wiki/Actuarial_present_value\n",
    "\n",
    "`pv_claim` is an intermediate function, if we take the sum of this, it is the equivalent of Excel `SUMPRODUCT` on the `v` column and the `expected_claim` column."
   ]
  },
  {
   "cell_type": "code",
   "execution_count": 25,
   "metadata": {},
   "outputs": [],
   "source": [
    "class Model4(heavylight.Model):\n",
    "    basis: Basis  # added here to allow code auto-completion\n",
    "    data: dict\n",
    "\n",
    "    def t(self, t):\n",
    "        \"\"\"time\"\"\"\n",
    "        return t\n",
    "    \n",
    "    def num_alive(self, t):\n",
    "        \"\"\"probability that life is alive at time t, given alive at time 0\"\"\"\n",
    "        if t == 0:\n",
    "            return 1\n",
    "        else:\n",
    "            return self.num_alive(t - 1) - self.num_deaths(t - 1)     # deaths moved to a separate method\n",
    "        \n",
    "    def num_deaths(self, t):\n",
    "        \"\"\"number of deaths occuring between time t-1 and t\"\"\"\n",
    "        if t < 0:\n",
    "            return 0\n",
    "        else:\n",
    "            return self.num_alive(t) * self.q_x(t)\n",
    "\n",
    "    def q_x(self, t):\n",
    "        return self.basis.mort_table[self.age(t)]\n",
    "\n",
    "    def age(self, t):\n",
    "        \"\"\"age in years at time t\"\"\"\n",
    "        if t == 0:\n",
    "            return self.data[\"init_age\"]\n",
    "        elif t % 12 == 0:\n",
    "            return self.age(t - 1) + 1\n",
    "        else:\n",
    "            return self.age(t - 1)\n",
    "        \n",
    "    def expected_claim(self, t):\n",
    "        return self.data[\"sum_assured\"] * self.num_deaths(t)\n",
    "    \n",
    "    def v(self, t):\n",
    "        \"\"\"Present value factor for time t, discounting back to time 0\"\"\"\n",
    "        if t == 0:\n",
    "            return 1.0\n",
    "        else:\n",
    "            return self.v(t - 1) / (1 + self.basis.disc_rate_pm)\n",
    "    \n",
    "    def pv_claim(self, t):\n",
    "        \"\"\"present value of the expected claim occuring at time t\"\"\"\n",
    "        return self.expected_claim(t) * self.v(t)\n",
    "    "
   ]
  },
  {
   "cell_type": "markdown",
   "metadata": {},
   "source": [
    "We've added `sum_assured` in the code as a data item, so we'll update our data dictionary with `sum_assured`.  The basis is unchanged from the basis object we created earlier, called `basis3`."
   ]
  },
  {
   "cell_type": "code",
   "execution_count": 26,
   "metadata": {},
   "outputs": [
    {
     "data": {
      "text/html": [
       "<div>\n",
       "<style scoped>\n",
       "    .dataframe tbody tr th:only-of-type {\n",
       "        vertical-align: middle;\n",
       "    }\n",
       "\n",
       "    .dataframe tbody tr th {\n",
       "        vertical-align: top;\n",
       "    }\n",
       "\n",
       "    .dataframe thead th {\n",
       "        text-align: right;\n",
       "    }\n",
       "</style>\n",
       "<table border=\"1\" class=\"dataframe\">\n",
       "  <thead>\n",
       "    <tr style=\"text-align: right;\">\n",
       "      <th></th>\n",
       "      <th>t</th>\n",
       "      <th>age</th>\n",
       "      <th>expected_claim</th>\n",
       "      <th>num_alive</th>\n",
       "      <th>num_deaths</th>\n",
       "      <th>pv_claim</th>\n",
       "      <th>q_x</th>\n",
       "      <th>v</th>\n",
       "    </tr>\n",
       "  </thead>\n",
       "  <tbody>\n",
       "    <tr>\n",
       "      <th>0</th>\n",
       "      <td>0</td>\n",
       "      <td>65</td>\n",
       "      <td>1978.666257</td>\n",
       "      <td>1.000000e+00</td>\n",
       "      <td>1.978666e-02</td>\n",
       "      <td>1978.666257</td>\n",
       "      <td>0.019787</td>\n",
       "      <td>1.000000</td>\n",
       "    </tr>\n",
       "    <tr>\n",
       "      <th>1</th>\n",
       "      <td>1</td>\n",
       "      <td>65</td>\n",
       "      <td>1939.515056</td>\n",
       "      <td>9.802133e-01</td>\n",
       "      <td>1.939515e-02</td>\n",
       "      <td>1933.186307</td>\n",
       "      <td>0.019787</td>\n",
       "      <td>0.996737</td>\n",
       "    </tr>\n",
       "    <tr>\n",
       "      <th>2</th>\n",
       "      <td>2</td>\n",
       "      <td>65</td>\n",
       "      <td>1901.138526</td>\n",
       "      <td>9.608182e-01</td>\n",
       "      <td>1.901139e-02</td>\n",
       "      <td>1888.751720</td>\n",
       "      <td>0.019787</td>\n",
       "      <td>0.993485</td>\n",
       "    </tr>\n",
       "    <tr>\n",
       "      <th>3</th>\n",
       "      <td>3</td>\n",
       "      <td>65</td>\n",
       "      <td>1863.521339</td>\n",
       "      <td>9.418068e-01</td>\n",
       "      <td>1.863521e-02</td>\n",
       "      <td>1845.338469</td>\n",
       "      <td>0.019787</td>\n",
       "      <td>0.990243</td>\n",
       "    </tr>\n",
       "    <tr>\n",
       "      <th>4</th>\n",
       "      <td>4</td>\n",
       "      <td>65</td>\n",
       "      <td>1826.648471</td>\n",
       "      <td>9.231716e-01</td>\n",
       "      <td>1.826648e-02</td>\n",
       "      <td>1802.923079</td>\n",
       "      <td>0.019787</td>\n",
       "      <td>0.987012</td>\n",
       "    </tr>\n",
       "    <tr>\n",
       "      <th>...</th>\n",
       "      <td>...</td>\n",
       "      <td>...</td>\n",
       "      <td>...</td>\n",
       "      <td>...</td>\n",
       "      <td>...</td>\n",
       "      <td>...</td>\n",
       "      <td>...</td>\n",
       "      <td>...</td>\n",
       "    </tr>\n",
       "    <tr>\n",
       "      <th>356</th>\n",
       "      <td>356</td>\n",
       "      <td>94</td>\n",
       "      <td>0.000016</td>\n",
       "      <td>1.289973e-09</td>\n",
       "      <td>1.563432e-10</td>\n",
       "      <td>0.000005</td>\n",
       "      <td>0.121199</td>\n",
       "      <td>0.312376</td>\n",
       "    </tr>\n",
       "    <tr>\n",
       "      <th>357</th>\n",
       "      <td>357</td>\n",
       "      <td>94</td>\n",
       "      <td>0.000014</td>\n",
       "      <td>1.133629e-09</td>\n",
       "      <td>1.373945e-10</td>\n",
       "      <td>0.000004</td>\n",
       "      <td>0.121199</td>\n",
       "      <td>0.311357</td>\n",
       "    </tr>\n",
       "    <tr>\n",
       "      <th>358</th>\n",
       "      <td>358</td>\n",
       "      <td>94</td>\n",
       "      <td>0.000012</td>\n",
       "      <td>9.962349e-10</td>\n",
       "      <td>1.207425e-10</td>\n",
       "      <td>0.000004</td>\n",
       "      <td>0.121199</td>\n",
       "      <td>0.310341</td>\n",
       "    </tr>\n",
       "    <tr>\n",
       "      <th>359</th>\n",
       "      <td>359</td>\n",
       "      <td>94</td>\n",
       "      <td>0.000011</td>\n",
       "      <td>8.754924e-10</td>\n",
       "      <td>1.061086e-10</td>\n",
       "      <td>0.000003</td>\n",
       "      <td>0.121199</td>\n",
       "      <td>0.309328</td>\n",
       "    </tr>\n",
       "    <tr>\n",
       "      <th>360</th>\n",
       "      <td>360</td>\n",
       "      <td>95</td>\n",
       "      <td>0.000010</td>\n",
       "      <td>7.693838e-10</td>\n",
       "      <td>9.936056e-11</td>\n",
       "      <td>0.000003</td>\n",
       "      <td>0.129143</td>\n",
       "      <td>0.308319</td>\n",
       "    </tr>\n",
       "  </tbody>\n",
       "</table>\n",
       "<p>361 rows × 8 columns</p>\n",
       "</div>"
      ],
      "text/plain": [
       "       t  age  expected_claim     num_alive    num_deaths     pv_claim  \\\n",
       "0      0   65     1978.666257  1.000000e+00  1.978666e-02  1978.666257   \n",
       "1      1   65     1939.515056  9.802133e-01  1.939515e-02  1933.186307   \n",
       "2      2   65     1901.138526  9.608182e-01  1.901139e-02  1888.751720   \n",
       "3      3   65     1863.521339  9.418068e-01  1.863521e-02  1845.338469   \n",
       "4      4   65     1826.648471  9.231716e-01  1.826648e-02  1802.923079   \n",
       "..   ...  ...             ...           ...           ...          ...   \n",
       "356  356   94        0.000016  1.289973e-09  1.563432e-10     0.000005   \n",
       "357  357   94        0.000014  1.133629e-09  1.373945e-10     0.000004   \n",
       "358  358   94        0.000012  9.962349e-10  1.207425e-10     0.000004   \n",
       "359  359   94        0.000011  8.754924e-10  1.061086e-10     0.000003   \n",
       "360  360   95        0.000010  7.693838e-10  9.936056e-11     0.000003   \n",
       "\n",
       "          q_x         v  \n",
       "0    0.019787  1.000000  \n",
       "1    0.019787  0.996737  \n",
       "2    0.019787  0.993485  \n",
       "3    0.019787  0.990243  \n",
       "4    0.019787  0.987012  \n",
       "..        ...       ...  \n",
       "356  0.121199  0.312376  \n",
       "357  0.121199  0.311357  \n",
       "358  0.121199  0.310341  \n",
       "359  0.121199  0.309328  \n",
       "360  0.129143  0.308319  \n",
       "\n",
       "[361 rows x 8 columns]"
      ]
     },
     "execution_count": 26,
     "metadata": {},
     "output_type": "execute_result"
    }
   ],
   "source": [
    "data4 = dict(init_age = 65,\n",
    "             sum_assured = 100_000,\n",
    "             )\n",
    "\n",
    "model4 = Model4(data=data4, basis=basis3, proj_len = 361)\n",
    "model4.df"
   ]
  },
  {
   "cell_type": "markdown",
   "metadata": {},
   "source": [
    "We can now calculate the present value of claims, using the .sum() method:"
   ]
  },
  {
   "cell_type": "code",
   "execution_count": 27,
   "metadata": {},
   "outputs": [
    {
     "data": {
      "text/plain": [
       "87851.651965683"
      ]
     },
     "execution_count": 27,
     "metadata": {},
     "output_type": "execute_result"
    }
   ],
   "source": [
    "model4.pv_claim.sum()"
   ]
  },
  {
   "cell_type": "markdown",
   "metadata": {},
   "source": [
    "Finally - let's run the model a few times in a loop to see the sensitivity of claims to age:"
   ]
  },
  {
   "cell_type": "code",
   "execution_count": 28,
   "metadata": {},
   "outputs": [
    {
     "name": "stdout",
     "output_type": "stream",
     "text": [
      "Age: 35 → PV Claim: 62,955.96\n",
      "Age: 45 → PV Claim: 72,883.45\n",
      "Age: 55 → PV Claim: 81,168.11\n",
      "Age: 65 → PV Claim: 87,851.65\n"
     ]
    }
   ],
   "source": [
    "for age in [35, 45, 55, 65]:\n",
    "    proj_result = Model4(data=dict(init_age=age, sum_assured=100_000),basis=basis3, proj_len=361)\n",
    "    pv_claim = proj_result.pv_claim.sum()\n",
    "    print(f\"Age: {age} → PV Claim: {pv_claim:0,.2f}\")"
   ]
  },
  {
   "cell_type": "markdown",
   "metadata": {},
   "source": [
    "From here the model result can be used downstream in other code, or exported to an file, e.g. using the pandas method `to_excel` or `to_csv`. https://pandas.pydata.org/pandas-docs/stable/reference/api/pandas.DataFrame.to_excel.html"
   ]
  },
  {
   "cell_type": "markdown",
   "metadata": {},
   "source": [
    "## What next?\n",
    "\n",
    "That completes this introduction, you could try adding some variables of your own to the model, for example:\n",
    "\n",
    "- Adding an `expected_premium` function, which takes `monthly_premium` from data.\n",
    "- Adding a maximum policy term (at the moment it is controlled by `proj_len`).\n",
    "- Use a yield curve rather than a flat rate"
   ]
  }
 ],
 "metadata": {
  "kernelspec": {
   "display_name": "heavylight",
   "language": "python",
   "name": "python3"
  },
  "language_info": {
   "codemirror_mode": {
    "name": "ipython",
    "version": 3
   },
   "file_extension": ".py",
   "mimetype": "text/x-python",
   "name": "python",
   "nbconvert_exporter": "python",
   "pygments_lexer": "ipython3",
   "version": "3.11.5"
  }
 },
 "nbformat": 4,
 "nbformat_minor": 2
}
